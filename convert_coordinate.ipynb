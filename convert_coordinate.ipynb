{
 "cells": [
  {
   "cell_type": "code",
   "execution_count": 1,
   "metadata": {},
   "outputs": [],
   "source": [
    "import geopandas as gpd\n",
    "import os\n",
    "import glob\n",
    "from pyproj import Transformer"
   ]
  },
  {
   "cell_type": "code",
   "execution_count": 2,
   "metadata": {},
   "outputs": [],
   "source": [
    "files = []\n",
    "for file in os.listdir('result'):\n",
    "    if file.endswith('.shp'):\n",
    "        files.append(file)\n"
   ]
  },
  {
   "cell_type": "code",
   "execution_count": 3,
   "metadata": {},
   "outputs": [],
   "source": [
    "def convert_shapefile_crs(input_shapefile, output_shapefile, dst_crs):\n",
    "    gdf = gpd.read_file(input_shapefile)\n",
    "    gdf = gdf.to_crs(dst_crs)\n",
    "    gdf.to_file(output_shapefile)"
   ]
  },
  {
   "cell_type": "code",
   "execution_count": 4,
   "metadata": {},
   "outputs": [],
   "source": [
    "output_directory = 'converted'\n",
    "if not os.path.exists(output_directory):\n",
    "    os.makedirs(output_directory)"
   ]
  },
  {
   "cell_type": "code",
   "execution_count": 15,
   "metadata": {},
   "outputs": [
    {
     "name": "stdout",
     "output_type": "stream",
     "text": [
      "Longitude: -84.52706042950825, Latitude: 41.640897328787766\n"
     ]
    }
   ],
   "source": [
    "transformer = Transformer.from_crs('epsg:32616', 'epsg:4326', always_xy=True)\n",
    "\n",
    "# Example UTM coordinate in EPSG:32616\n",
    "utm_x, utm_y = 705958,4612861\n",
    "longitude, latitude = transformer.transform(utm_x, utm_y)\n",
    "\n",
    "print(f\"Longitude: {longitude}, Latitude: {latitude}\")"
   ]
  },
  {
   "cell_type": "code",
   "execution_count": 17,
   "metadata": {},
   "outputs": [],
   "source": [
    "from shapely.ops import transform\n",
    "def transform_polygon(polygon):\n",
    "    return transform(lambda x, y: transformer.transform(x, y), polygon)\n",
    "\n",
    "for file in files:\n",
    "    transformer = Transformer.from_crs('epsg:32616', 'epsg:4326', always_xy=True)\n",
    "    data = gpd.read_file(f'result/{file}')\n",
    "    data['geometry'] = data['geometry'].apply(transform_polygon)\n",
    "    data.set_crs('epsg:4326', inplace=True)\n",
    "    data.to_file(f'converted/{file}')"
   ]
  },
  {
   "cell_type": "code",
   "execution_count": null,
   "metadata": {},
   "outputs": [],
   "source": []
  },
  {
   "cell_type": "code",
   "execution_count": null,
   "metadata": {},
   "outputs": [],
   "source": []
  },
  {
   "cell_type": "code",
   "execution_count": null,
   "metadata": {},
   "outputs": [],
   "source": []
  },
  {
   "cell_type": "code",
   "execution_count": null,
   "metadata": {},
   "outputs": [],
   "source": []
  },
  {
   "cell_type": "code",
   "execution_count": 5,
   "metadata": {},
   "outputs": [],
   "source": [
    "data = gpd.read_file('result/' + files[0])"
   ]
  },
  {
   "cell_type": "code",
   "execution_count": 11,
   "metadata": {},
   "outputs": [
    {
     "data": {
      "text/plain": [
       "0         POLYGON ((323305.00000 5184775.00000, 323295.0...\n",
       "1         POLYGON ((323325.00000 5184775.00000, 323305.0...\n",
       "2         POLYGON ((323415.00000 5184785.00000, 323435.0...\n",
       "3         POLYGON ((323445.00000 5184785.00000, 323455.0...\n",
       "4         POLYGON ((323835.00000 5184775.00000, 323825.0...\n",
       "                                ...                        \n",
       "278398    POLYGON ((339475.00000 5168215.00000, 339465.0...\n",
       "278399    POLYGON ((339485.00000 5168215.00000, 339475.0...\n",
       "278400    POLYGON ((339495.00000 5168215.00000, 339485.0...\n",
       "278401    POLYGON ((339605.00000 5168215.00000, 339585.0...\n",
       "278402    POLYGON ((339605.00000 5168215.00000, 339605.0...\n",
       "Name: geometry, Length: 278403, dtype: geometry"
      ]
     },
     "execution_count": 11,
     "metadata": {},
     "output_type": "execute_result"
    }
   ],
   "source": [
    "data['geometry']"
   ]
  },
  {
   "cell_type": "code",
   "execution_count": 12,
   "metadata": {},
   "outputs": [],
   "source": [
    "from shapely.ops import transform\n",
    "transformer = Transformer.from_crs('epsg:32616', 'epsg:4326', always_xy=True)\n",
    "\n",
    "def transform_polygon(polygon):\n",
    "    return transform(lambda x, y: transformer.transform(x, y), polygon)\n",
    "\n",
    "data['geometry'] = data['geometry'].apply(transform_polygon)"
   ]
  },
  {
   "cell_type": "code",
   "execution_count": 13,
   "metadata": {},
   "outputs": [
    {
     "data": {
      "text/html": [
       "<div>\n",
       "<style scoped>\n",
       "    .dataframe tbody tr th:only-of-type {\n",
       "        vertical-align: middle;\n",
       "    }\n",
       "\n",
       "    .dataframe tbody tr th {\n",
       "        vertical-align: top;\n",
       "    }\n",
       "\n",
       "    .dataframe thead th {\n",
       "        text-align: right;\n",
       "    }\n",
       "</style>\n",
       "<table border=\"1\" class=\"dataframe\">\n",
       "  <thead>\n",
       "    <tr style=\"text-align: right;\">\n",
       "      <th></th>\n",
       "      <th>Id</th>\n",
       "      <th>gridcode</th>\n",
       "      <th>geometry</th>\n",
       "    </tr>\n",
       "  </thead>\n",
       "  <tbody>\n",
       "    <tr>\n",
       "      <th>0</th>\n",
       "      <td>1</td>\n",
       "      <td>2</td>\n",
       "      <td>POLYGON ((-89.31527 46.79310, -89.31540 46.793...</td>\n",
       "    </tr>\n",
       "    <tr>\n",
       "      <th>1</th>\n",
       "      <td>2</td>\n",
       "      <td>5</td>\n",
       "      <td>POLYGON ((-89.31501 46.79310, -89.31527 46.793...</td>\n",
       "    </tr>\n",
       "    <tr>\n",
       "      <th>2</th>\n",
       "      <td>3</td>\n",
       "      <td>2</td>\n",
       "      <td>POLYGON ((-89.31383 46.79322, -89.31357 46.793...</td>\n",
       "    </tr>\n",
       "    <tr>\n",
       "      <th>3</th>\n",
       "      <td>4</td>\n",
       "      <td>6</td>\n",
       "      <td>POLYGON ((-89.31344 46.79322, -89.31331 46.793...</td>\n",
       "    </tr>\n",
       "    <tr>\n",
       "      <th>4</th>\n",
       "      <td>5</td>\n",
       "      <td>3</td>\n",
       "      <td>POLYGON ((-89.30833 46.79324, -89.30846 46.793...</td>\n",
       "    </tr>\n",
       "    <tr>\n",
       "      <th>...</th>\n",
       "      <td>...</td>\n",
       "      <td>...</td>\n",
       "      <td>...</td>\n",
       "    </tr>\n",
       "    <tr>\n",
       "      <th>278398</th>\n",
       "      <td>278399</td>\n",
       "      <td>5</td>\n",
       "      <td>POLYGON ((-89.09776 46.64826, -89.09789 46.648...</td>\n",
       "    </tr>\n",
       "    <tr>\n",
       "      <th>278399</th>\n",
       "      <td>278400</td>\n",
       "      <td>4</td>\n",
       "      <td>POLYGON ((-89.09763 46.64826, -89.09776 46.648...</td>\n",
       "    </tr>\n",
       "    <tr>\n",
       "      <th>278400</th>\n",
       "      <td>278401</td>\n",
       "      <td>5</td>\n",
       "      <td>POLYGON ((-89.09750 46.64826, -89.09763 46.648...</td>\n",
       "    </tr>\n",
       "    <tr>\n",
       "      <th>278401</th>\n",
       "      <td>278402</td>\n",
       "      <td>2</td>\n",
       "      <td>POLYGON ((-89.09606 46.64829, -89.09632 46.648...</td>\n",
       "    </tr>\n",
       "    <tr>\n",
       "      <th>278402</th>\n",
       "      <td>278403</td>\n",
       "      <td>3</td>\n",
       "      <td>POLYGON ((-89.09606 46.64829, -89.09607 46.648...</td>\n",
       "    </tr>\n",
       "  </tbody>\n",
       "</table>\n",
       "<p>278403 rows × 3 columns</p>\n",
       "</div>"
      ],
      "text/plain": [
       "            Id  gridcode                                           geometry\n",
       "0            1         2  POLYGON ((-89.31527 46.79310, -89.31540 46.793...\n",
       "1            2         5  POLYGON ((-89.31501 46.79310, -89.31527 46.793...\n",
       "2            3         2  POLYGON ((-89.31383 46.79322, -89.31357 46.793...\n",
       "3            4         6  POLYGON ((-89.31344 46.79322, -89.31331 46.793...\n",
       "4            5         3  POLYGON ((-89.30833 46.79324, -89.30846 46.793...\n",
       "...        ...       ...                                                ...\n",
       "278398  278399         5  POLYGON ((-89.09776 46.64826, -89.09789 46.648...\n",
       "278399  278400         4  POLYGON ((-89.09763 46.64826, -89.09776 46.648...\n",
       "278400  278401         5  POLYGON ((-89.09750 46.64826, -89.09763 46.648...\n",
       "278401  278402         2  POLYGON ((-89.09606 46.64829, -89.09632 46.648...\n",
       "278402  278403         3  POLYGON ((-89.09606 46.64829, -89.09607 46.648...\n",
       "\n",
       "[278403 rows x 3 columns]"
      ]
     },
     "execution_count": 13,
     "metadata": {},
     "output_type": "execute_result"
    }
   ],
   "source": [
    "data"
   ]
  },
  {
   "cell_type": "code",
   "execution_count": 14,
   "metadata": {},
   "outputs": [
    {
     "data": {
      "text/html": [
       "<div>\n",
       "<style scoped>\n",
       "    .dataframe tbody tr th:only-of-type {\n",
       "        vertical-align: middle;\n",
       "    }\n",
       "\n",
       "    .dataframe tbody tr th {\n",
       "        vertical-align: top;\n",
       "    }\n",
       "\n",
       "    .dataframe thead th {\n",
       "        text-align: right;\n",
       "    }\n",
       "</style>\n",
       "<table border=\"1\" class=\"dataframe\">\n",
       "  <thead>\n",
       "    <tr style=\"text-align: right;\">\n",
       "      <th></th>\n",
       "      <th>Id</th>\n",
       "      <th>gridcode</th>\n",
       "      <th>geometry</th>\n",
       "    </tr>\n",
       "  </thead>\n",
       "  <tbody>\n",
       "    <tr>\n",
       "      <th>0</th>\n",
       "      <td>1</td>\n",
       "      <td>2</td>\n",
       "      <td>POLYGON ((-89.31527 46.79310, -89.31540 46.793...</td>\n",
       "    </tr>\n",
       "    <tr>\n",
       "      <th>1</th>\n",
       "      <td>2</td>\n",
       "      <td>5</td>\n",
       "      <td>POLYGON ((-89.31501 46.79310, -89.31527 46.793...</td>\n",
       "    </tr>\n",
       "    <tr>\n",
       "      <th>2</th>\n",
       "      <td>3</td>\n",
       "      <td>2</td>\n",
       "      <td>POLYGON ((-89.31383 46.79322, -89.31357 46.793...</td>\n",
       "    </tr>\n",
       "    <tr>\n",
       "      <th>3</th>\n",
       "      <td>4</td>\n",
       "      <td>6</td>\n",
       "      <td>POLYGON ((-89.31344 46.79322, -89.31331 46.793...</td>\n",
       "    </tr>\n",
       "    <tr>\n",
       "      <th>4</th>\n",
       "      <td>5</td>\n",
       "      <td>3</td>\n",
       "      <td>POLYGON ((-89.30833 46.79324, -89.30846 46.793...</td>\n",
       "    </tr>\n",
       "    <tr>\n",
       "      <th>...</th>\n",
       "      <td>...</td>\n",
       "      <td>...</td>\n",
       "      <td>...</td>\n",
       "    </tr>\n",
       "    <tr>\n",
       "      <th>278398</th>\n",
       "      <td>278399</td>\n",
       "      <td>5</td>\n",
       "      <td>POLYGON ((-89.09776 46.64826, -89.09789 46.648...</td>\n",
       "    </tr>\n",
       "    <tr>\n",
       "      <th>278399</th>\n",
       "      <td>278400</td>\n",
       "      <td>4</td>\n",
       "      <td>POLYGON ((-89.09763 46.64826, -89.09776 46.648...</td>\n",
       "    </tr>\n",
       "    <tr>\n",
       "      <th>278400</th>\n",
       "      <td>278401</td>\n",
       "      <td>5</td>\n",
       "      <td>POLYGON ((-89.09750 46.64826, -89.09763 46.648...</td>\n",
       "    </tr>\n",
       "    <tr>\n",
       "      <th>278401</th>\n",
       "      <td>278402</td>\n",
       "      <td>2</td>\n",
       "      <td>POLYGON ((-89.09606 46.64829, -89.09632 46.648...</td>\n",
       "    </tr>\n",
       "    <tr>\n",
       "      <th>278402</th>\n",
       "      <td>278403</td>\n",
       "      <td>3</td>\n",
       "      <td>POLYGON ((-89.09606 46.64829, -89.09607 46.648...</td>\n",
       "    </tr>\n",
       "  </tbody>\n",
       "</table>\n",
       "<p>278403 rows × 3 columns</p>\n",
       "</div>"
      ],
      "text/plain": [
       "            Id  gridcode                                           geometry\n",
       "0            1         2  POLYGON ((-89.31527 46.79310, -89.31540 46.793...\n",
       "1            2         5  POLYGON ((-89.31501 46.79310, -89.31527 46.793...\n",
       "2            3         2  POLYGON ((-89.31383 46.79322, -89.31357 46.793...\n",
       "3            4         6  POLYGON ((-89.31344 46.79322, -89.31331 46.793...\n",
       "4            5         3  POLYGON ((-89.30833 46.79324, -89.30846 46.793...\n",
       "...        ...       ...                                                ...\n",
       "278398  278399         5  POLYGON ((-89.09776 46.64826, -89.09789 46.648...\n",
       "278399  278400         4  POLYGON ((-89.09763 46.64826, -89.09776 46.648...\n",
       "278400  278401         5  POLYGON ((-89.09750 46.64826, -89.09763 46.648...\n",
       "278401  278402         2  POLYGON ((-89.09606 46.64829, -89.09632 46.648...\n",
       "278402  278403         3  POLYGON ((-89.09606 46.64829, -89.09607 46.648...\n",
       "\n",
       "[278403 rows x 3 columns]"
      ]
     },
     "execution_count": 14,
     "metadata": {},
     "output_type": "execute_result"
    }
   ],
   "source": [
    "data.set_crs('epsg:4326', inplace=True)"
   ]
  },
  {
   "cell_type": "code",
   "execution_count": 16,
   "metadata": {},
   "outputs": [],
   "source": [
    "data.to_file('converted/' + files[0])"
   ]
  },
  {
   "cell_type": "code",
   "execution_count": null,
   "metadata": {},
   "outputs": [],
   "source": []
  }
 ],
 "metadata": {
  "kernelspec": {
   "display_name": "Python 3",
   "language": "python",
   "name": "python3"
  },
  "language_info": {
   "codemirror_mode": {
    "name": "ipython",
    "version": 3
   },
   "file_extension": ".py",
   "mimetype": "text/x-python",
   "name": "python",
   "nbconvert_exporter": "python",
   "pygments_lexer": "ipython3",
   "version": "3.10.12"
  }
 },
 "nbformat": 4,
 "nbformat_minor": 2
}
